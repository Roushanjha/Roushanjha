{
  "nbformat": 4,
  "nbformat_minor": 0,
  "metadata": {
    "colab": {
      "name": "naman.ipynb",
      "provenance": [],
      "collapsed_sections": [],
      "authorship_tag": "ABX9TyO7bBccHqeUSoNawwkHJ0w8",
      "include_colab_link": true
    },
    "kernelspec": {
      "name": "python3",
      "display_name": "Python 3"
    },
    "language_info": {
      "name": "python"
    }
  },
  "cells": [
    {
      "cell_type": "markdown",
      "metadata": {
        "id": "view-in-github",
        "colab_type": "text"
      },
      "source": [
        "<a href=\"https://colab.research.google.com/github/Roushanjha/Roushanjha/blob/main/assignment.ipynb\" target=\"_parent\"><img src=\"https://colab.research.google.com/assets/colab-badge.svg\" alt=\"Open In Colab\"/></a>"
      ]
    },
    {
      "cell_type": "code",
      "metadata": {
        "colab": {
          "base_uri": "https://localhost:8080/"
        },
        "id": "Kp-Gr1zEbZyj",
        "outputId": "16e5d84a-906a-4823-f3e4-39cfbedd8569"
      },
      "source": [
        "def multiply(numbers):  \n",
        "    total = 1\n",
        "    for x in numbers:\n",
        "        total *= x  \n",
        "    return total  \n",
        "print(multiply((8, 2, 3, 1, 7)))"
      ],
      "execution_count": 2,
      "outputs": [
        {
          "output_type": "stream",
          "text": [
            "336\n"
          ],
          "name": "stdout"
        }
      ]
    },
    {
      "cell_type": "code",
      "metadata": {
        "colab": {
          "base_uri": "https://localhost:8080/"
        },
        "id": "J0V6DqajcEmC",
        "outputId": "92a62f2e-29a0-423f-d0cf-48d2b2104c01"
      },
      "source": [
        "a = [18, 52, 23, 41, 32]\n",
        "\n",
        "smallest = min(a)\n",
        "\n",
        "print(f'Smallest number in the list is : {smallest}.')"
      ],
      "execution_count": 3,
      "outputs": [
        {
          "output_type": "stream",
          "text": [
            "Smallest number in the list is : 18.\n"
          ],
          "name": "stdout"
        }
      ]
    },
    {
      "cell_type": "code",
      "metadata": {
        "colab": {
          "base_uri": "https://localhost:8080/"
        },
        "id": "ebo5UrJWcKpi",
        "outputId": "f3638676-35bd-4506-d392-6b01fe77aa66"
      },
      "source": [
        "a = [18, 52, 23, 41, 32]\n",
        "\n",
        "smallest = max(a)\n",
        "\n",
        "print(f'Smallest number in the list is : {smallest}.')"
      ],
      "execution_count": 4,
      "outputs": [
        {
          "output_type": "stream",
          "text": [
            "Smallest number in the list is : 52.\n"
          ],
          "name": "stdout"
        }
      ]
    },
    {
      "cell_type": "code",
      "metadata": {
        "colab": {
          "base_uri": "https://localhost:8080/"
        },
        "id": "_AEua2YGcZ_y",
        "outputId": "fc3123bc-5303-4e20-92fb-dd9a7e5872de"
      },
      "source": [
        "list = [11,22,1,2,5,67,21,32]\n",
        "\n",
        "list.sort()\n",
        "\n",
        "print(\"Second largest element in the list is:\", list[-2])"
      ],
      "execution_count": 5,
      "outputs": [
        {
          "output_type": "stream",
          "text": [
            "Second largest element in the list is: 32\n"
          ],
          "name": "stdout"
        }
      ]
    },
    {
      "cell_type": "code",
      "metadata": {
        "colab": {
          "base_uri": "https://localhost:8080/"
        },
        "id": "gzhLKyFid5MY",
        "outputId": "86bc0b93-1c24-479f-bc6f-1db93a8a31d8"
      },
      "source": [
        "def Nmaxelements(list, N):\n",
        "\tfinal_list = []\n",
        "\n",
        "\tfor i in range(0, N):\n",
        "\t\tmax = 0\n",
        "\t\t\n",
        "\t\tfor j in range(len(list)):\t\n",
        "\t\t\tif list[j] > max:\n",
        "\t\t\t\tmax = list[j];\n",
        "\t\t\t\t\n",
        "\t\tlist.remove(max);\n",
        "\t\tfinal_list.append(max)\n",
        "\t\t\n",
        "\tprint(final_list)\n",
        "\n",
        "list = [2, 6, 41, 85, 0, 3, 7, 6, 10]\n",
        "N = 2\n",
        "\n",
        "Nmaxelements(list, N)\n"
      ],
      "execution_count": 10,
      "outputs": [
        {
          "output_type": "stream",
          "text": [
            "[85, 41]\n"
          ],
          "name": "stdout"
        }
      ]
    },
    {
      "cell_type": "code",
      "metadata": {
        "colab": {
          "base_uri": "https://localhost:8080/"
        },
        "id": "PHl6mS-pgf-i",
        "outputId": "42b64a42-cd88-4e29-dcfc-2eee56a17ea1"
      },
      "source": [
        "list = [11,23,45,23,64,22,11,24]\n",
        "\n",
        "for num in list:\n",
        "   \n",
        "   if num % 2 == 0:\n",
        "      print(num, end = \" \")"
      ],
      "execution_count": 22,
      "outputs": [
        {
          "output_type": "stream",
          "text": [
            "64 22 24 "
          ],
          "name": "stdout"
        }
      ]
    },
    {
      "cell_type": "code",
      "metadata": {
        "colab": {
          "base_uri": "https://localhost:8080/"
        },
        "id": "v9w7mmkThEtV",
        "outputId": "65c21c4b-da53-42c6-dff1-e212eadcf460"
      },
      "source": [
        "list = [10, 21, 4, 45, 66, 93]\n",
        "\n",
        "for num in list:\n",
        "\t\n",
        "\tif num % 2 != 0:\n",
        "\t   print(num, end = \" \")\n"
      ],
      "execution_count": 24,
      "outputs": [
        {
          "output_type": "stream",
          "text": [
            "21 45 93 "
          ],
          "name": "stdout"
        }
      ]
    },
    {
      "cell_type": "code",
      "metadata": {
        "colab": {
          "base_uri": "https://localhost:8080/"
        },
        "id": "B_dT6q3OhVC1",
        "outputId": "b5d08ae5-cf9d-4323-9dfc-b5e51de0df23"
      },
      "source": [
        "list1 = [[], [], [], 'Red', 'Green', [1,2], 'Blue', [], []]\n",
        "print(\"Original list:\")\n",
        "print(list1)\n",
        "print(\"\\nAfter deleting the empty lists from the said lists of lists\")\n",
        "list2 = [x for x in list1 if x]\n",
        "print(list2)\n"
      ],
      "execution_count": 26,
      "outputs": [
        {
          "output_type": "stream",
          "text": [
            "Original list:\n",
            "[[], [], [], 'Red', 'Green', [1, 2], 'Blue', [], []]\n",
            "\n",
            "After deleting the empty lists from the said lists of lists\n",
            "['Red', 'Green', [1, 2], 'Blue']\n"
          ],
          "name": "stdout"
        }
      ]
    },
    {
      "cell_type": "code",
      "metadata": {
        "colab": {
          "base_uri": "https://localhost:8080/"
        },
        "id": "lMmH7lkoiJqP",
        "outputId": "2ff0bbab-20aa-4c53-994f-8405b8dbcdf4"
      },
      "source": [
        "def Cloning(list):\n",
        "\tlist_copy = list1[:]\n",
        "\treturn list_copy\n",
        "\n",
        "list1 = [4, 8, 2, 10, 15, 18]\n",
        "list2 = Cloning(list1)\n",
        "print(\"Original List:\", list1)\n",
        "print(\"After Cloning:\", list2)\n"
      ],
      "execution_count": 28,
      "outputs": [
        {
          "output_type": "stream",
          "text": [
            "Original List: [4, 8, 2, 10, 15, 18]\n",
            "After Cloning: [4, 8, 2, 10, 15, 18]\n"
          ],
          "name": "stdout"
        }
      ]
    },
    {
      "cell_type": "code",
      "metadata": {
        "colab": {
          "base_uri": "https://localhost:8080/"
        },
        "id": "oB2S5t0gilNU",
        "outputId": "cb6fc76d-66e4-4203-ff5d-7a0d146d7a2a"
      },
      "source": [
        "def countX(lst, x):\n",
        "\tcount = 0\n",
        "\tfor ele in lst:\n",
        "\t\tif (ele == x):\n",
        "\t\t\tcount = count + 1\n",
        "\treturn count\n",
        "\n",
        "lst = [8, 6, 8, 10, 8, 20, 10, 8, 8]\n",
        "x = 8\n",
        "print('{} has occurred {} times'.format(x, countX(lst, x)))\n"
      ],
      "execution_count": 29,
      "outputs": [
        {
          "output_type": "stream",
          "text": [
            "8 has occurred 5 times\n"
          ],
          "name": "stdout"
        }
      ]
    }
  ]
}